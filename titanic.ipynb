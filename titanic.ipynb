{
  "nbformat": 4,
  "nbformat_minor": 0,
  "metadata": {
    "colab": {
      "name": "titanic.ipynb",
      "provenance": [],
      "authorship_tag": "ABX9TyOlib2Ta39g6DEo5ajKoJx1",
      "include_colab_link": true
    },
    "kernelspec": {
      "name": "python3",
      "display_name": "Python 3"
    },
    "language_info": {
      "name": "python"
    }
  },
  "cells": [
    {
      "cell_type": "markdown",
      "metadata": {
        "id": "view-in-github",
        "colab_type": "text"
      },
      "source": [
        "<a href=\"https://colab.research.google.com/github/GeorgeKMaina/knn-naive-bayes/blob/main/titanic.ipynb\" target=\"_parent\"><img src=\"https://colab.research.google.com/assets/colab-badge.svg\" alt=\"Open In Colab\"/></a>"
      ]
    },
    {
      "cell_type": "markdown",
      "source": [
        "#TITANIC SURVIVAL PREDICTION- KNN Algorithm"
      ],
      "metadata": {
        "id": "5fKWaKrDA3s1"
      }
    },
    {
      "cell_type": "markdown",
      "source": [
        "## Defining the question"
      ],
      "metadata": {
        "id": "F4kZ9nq6A5ML"
      }
    },
    {
      "cell_type": "markdown",
      "source": [
        "- To predict whether an individual survived based on the features in the dataset"
      ],
      "metadata": {
        "id": "-EvWKS-IBTKJ"
      }
    },
    {
      "cell_type": "markdown",
      "source": [
        "##Metric for success"
      ],
      "metadata": {
        "id": "MegBJNmsA5YL"
      }
    },
    {
      "cell_type": "markdown",
      "source": [
        "- This project will be considered successful if we are able to obtain a high accuracy score in our model (KNN) when predicting chances of survival of an individual in the titanic."
      ],
      "metadata": {
        "id": "vfUDQM7MBd9L"
      }
    },
    {
      "cell_type": "markdown",
      "source": [
        "##Understanding the context"
      ],
      "metadata": {
        "id": "2cYhd8NBA5iM"
      }
    },
    {
      "cell_type": "markdown",
      "source": [
        "- The Titanic, during her maiden voyage on April 15, 1912, sank after colliding with an iceberg, killing 1502 out of 2224 passengers and crew. The tragedy is considered one of the most infamous shipwrecks in history and led to better safety guidelines for ships.\n",
        "\n",
        "- We shall analyse the data on passengers aboard the Titanic to build a model that can predict whether a passenger survived or not.\n",
        "\n",
        "- We have two data sets. One for training (train.csv) containing survival and death information that we will use to train our model. One for testing (test.csv), without survival and death information, that we will use to test our models."
      ],
      "metadata": {
        "id": "Z50vHLdMByEp"
      }
    },
    {
      "cell_type": "markdown",
      "source": [
        "##Experimental design"
      ],
      "metadata": {
        "id": "Sroogd2iA5uf"
      }
    },
    {
      "cell_type": "markdown",
      "source": [
        "- Defining the Question\n",
        "- Reading the Data.\n",
        "- Checking the Data.\n",
        "- Data Cleaning\n",
        "- Performing EDA\n",
        "- Building thePrediction Model"
      ],
      "metadata": {
        "id": "Q8gNHcz8B8EN"
      }
    },
    {
      "cell_type": "code",
      "execution_count": 1,
      "metadata": {
        "id": "5jHml8uVRzYc"
      },
      "outputs": [],
      "source": [
        "# Import Libraries\n",
        "\n",
        "import pandas as pd\n",
        "import numpy as np\n",
        "import matplotlib.pyplot as plt\n",
        "import seaborn as sns\n",
        "import warnings\n",
        "from imblearn.over_sampling import SMOTE\n",
        "from sklearn.preprocessing import RobustScaler, StandardScaler\n",
        "from sklearn.neighbors import KNeighborsClassifier\n",
        "from sklearn.model_selection import train_test_split, GridSearchCV\n",
        "from sklearn.discriminant_analysis import LinearDiscriminantAnalysis\n",
        "from sklearn.metrics import accuracy_score, confusion_matrix, classification_report, roc_auc_score, f1_score\n",
        "\n",
        "# Set global parameters\n",
        "%matplotlib inline\n",
        "sns.set()\n",
        "plt.rcParams['figure.figsize'] = (10.0, 8.0)\n",
        "warnings.filterwarnings('ignore')"
      ]
    },
    {
      "cell_type": "code",
      "source": [
        "# reading our csv files\n",
        "train = pd.read_csv('/content/train (5).csv')\n",
        "test = pd.read_csv('/content/test (1).csv')"
      ],
      "metadata": {
        "id": "HRmYZaR3UHj6"
      },
      "execution_count": 2,
      "outputs": []
    },
    {
      "cell_type": "code",
      "source": [
        "# checking the top of our train dataset\n",
        "train.head()"
      ],
      "metadata": {
        "colab": {
          "base_uri": "https://localhost:8080/",
          "height": 276
        },
        "id": "BRV5GPgSUgTu",
        "outputId": "cd636101-7392-4970-f446-76c53202571b"
      },
      "execution_count": 3,
      "outputs": [
        {
          "output_type": "execute_result",
          "data": {
            "text/html": [
              "<div>\n",
              "<style scoped>\n",
              "    .dataframe tbody tr th:only-of-type {\n",
              "        vertical-align: middle;\n",
              "    }\n",
              "\n",
              "    .dataframe tbody tr th {\n",
              "        vertical-align: top;\n",
              "    }\n",
              "\n",
              "    .dataframe thead th {\n",
              "        text-align: right;\n",
              "    }\n",
              "</style>\n",
              "<table border=\"1\" class=\"dataframe\">\n",
              "  <thead>\n",
              "    <tr style=\"text-align: right;\">\n",
              "      <th></th>\n",
              "      <th>PassengerId</th>\n",
              "      <th>Survived</th>\n",
              "      <th>Pclass</th>\n",
              "      <th>Name</th>\n",
              "      <th>Sex</th>\n",
              "      <th>Age</th>\n",
              "      <th>SibSp</th>\n",
              "      <th>Parch</th>\n",
              "      <th>Ticket</th>\n",
              "      <th>Fare</th>\n",
              "      <th>Cabin</th>\n",
              "      <th>Embarked</th>\n",
              "    </tr>\n",
              "  </thead>\n",
              "  <tbody>\n",
              "    <tr>\n",
              "      <th>0</th>\n",
              "      <td>1</td>\n",
              "      <td>0</td>\n",
              "      <td>3</td>\n",
              "      <td>Braund, Mr. Owen Harris</td>\n",
              "      <td>male</td>\n",
              "      <td>22.0</td>\n",
              "      <td>1</td>\n",
              "      <td>0</td>\n",
              "      <td>A/5 21171</td>\n",
              "      <td>7.2500</td>\n",
              "      <td>NaN</td>\n",
              "      <td>S</td>\n",
              "    </tr>\n",
              "    <tr>\n",
              "      <th>1</th>\n",
              "      <td>2</td>\n",
              "      <td>1</td>\n",
              "      <td>1</td>\n",
              "      <td>Cumings, Mrs. John Bradley (Florence Briggs Th...</td>\n",
              "      <td>female</td>\n",
              "      <td>38.0</td>\n",
              "      <td>1</td>\n",
              "      <td>0</td>\n",
              "      <td>PC 17599</td>\n",
              "      <td>71.2833</td>\n",
              "      <td>C85</td>\n",
              "      <td>C</td>\n",
              "    </tr>\n",
              "    <tr>\n",
              "      <th>2</th>\n",
              "      <td>3</td>\n",
              "      <td>1</td>\n",
              "      <td>3</td>\n",
              "      <td>Heikkinen, Miss. Laina</td>\n",
              "      <td>female</td>\n",
              "      <td>26.0</td>\n",
              "      <td>0</td>\n",
              "      <td>0</td>\n",
              "      <td>STON/O2. 3101282</td>\n",
              "      <td>7.9250</td>\n",
              "      <td>NaN</td>\n",
              "      <td>S</td>\n",
              "    </tr>\n",
              "    <tr>\n",
              "      <th>3</th>\n",
              "      <td>4</td>\n",
              "      <td>1</td>\n",
              "      <td>1</td>\n",
              "      <td>Futrelle, Mrs. Jacques Heath (Lily May Peel)</td>\n",
              "      <td>female</td>\n",
              "      <td>35.0</td>\n",
              "      <td>1</td>\n",
              "      <td>0</td>\n",
              "      <td>113803</td>\n",
              "      <td>53.1000</td>\n",
              "      <td>C123</td>\n",
              "      <td>S</td>\n",
              "    </tr>\n",
              "    <tr>\n",
              "      <th>4</th>\n",
              "      <td>5</td>\n",
              "      <td>0</td>\n",
              "      <td>3</td>\n",
              "      <td>Allen, Mr. William Henry</td>\n",
              "      <td>male</td>\n",
              "      <td>35.0</td>\n",
              "      <td>0</td>\n",
              "      <td>0</td>\n",
              "      <td>373450</td>\n",
              "      <td>8.0500</td>\n",
              "      <td>NaN</td>\n",
              "      <td>S</td>\n",
              "    </tr>\n",
              "  </tbody>\n",
              "</table>\n",
              "</div>"
            ],
            "text/plain": [
              "   PassengerId  Survived  Pclass  ...     Fare Cabin  Embarked\n",
              "0            1         0       3  ...   7.2500   NaN         S\n",
              "1            2         1       1  ...  71.2833   C85         C\n",
              "2            3         1       3  ...   7.9250   NaN         S\n",
              "3            4         1       1  ...  53.1000  C123         S\n",
              "4            5         0       3  ...   8.0500   NaN         S\n",
              "\n",
              "[5 rows x 12 columns]"
            ]
          },
          "metadata": {},
          "execution_count": 3
        }
      ]
    },
    {
      "cell_type": "code",
      "source": [
        "# checking the bottom of train our dataset\n",
        "train.tail()"
      ],
      "metadata": {
        "id": "ooeas2wtUjGa",
        "colab": {
          "base_uri": "https://localhost:8080/",
          "height": 224
        },
        "outputId": "136884bf-eec6-406c-e935-ad141a4adba7"
      },
      "execution_count": 4,
      "outputs": [
        {
          "output_type": "execute_result",
          "data": {
            "text/html": [
              "<div>\n",
              "<style scoped>\n",
              "    .dataframe tbody tr th:only-of-type {\n",
              "        vertical-align: middle;\n",
              "    }\n",
              "\n",
              "    .dataframe tbody tr th {\n",
              "        vertical-align: top;\n",
              "    }\n",
              "\n",
              "    .dataframe thead th {\n",
              "        text-align: right;\n",
              "    }\n",
              "</style>\n",
              "<table border=\"1\" class=\"dataframe\">\n",
              "  <thead>\n",
              "    <tr style=\"text-align: right;\">\n",
              "      <th></th>\n",
              "      <th>PassengerId</th>\n",
              "      <th>Survived</th>\n",
              "      <th>Pclass</th>\n",
              "      <th>Name</th>\n",
              "      <th>Sex</th>\n",
              "      <th>Age</th>\n",
              "      <th>SibSp</th>\n",
              "      <th>Parch</th>\n",
              "      <th>Ticket</th>\n",
              "      <th>Fare</th>\n",
              "      <th>Cabin</th>\n",
              "      <th>Embarked</th>\n",
              "    </tr>\n",
              "  </thead>\n",
              "  <tbody>\n",
              "    <tr>\n",
              "      <th>886</th>\n",
              "      <td>887</td>\n",
              "      <td>0</td>\n",
              "      <td>2</td>\n",
              "      <td>Montvila, Rev. Juozas</td>\n",
              "      <td>male</td>\n",
              "      <td>27.0</td>\n",
              "      <td>0</td>\n",
              "      <td>0</td>\n",
              "      <td>211536</td>\n",
              "      <td>13.00</td>\n",
              "      <td>NaN</td>\n",
              "      <td>S</td>\n",
              "    </tr>\n",
              "    <tr>\n",
              "      <th>887</th>\n",
              "      <td>888</td>\n",
              "      <td>1</td>\n",
              "      <td>1</td>\n",
              "      <td>Graham, Miss. Margaret Edith</td>\n",
              "      <td>female</td>\n",
              "      <td>19.0</td>\n",
              "      <td>0</td>\n",
              "      <td>0</td>\n",
              "      <td>112053</td>\n",
              "      <td>30.00</td>\n",
              "      <td>B42</td>\n",
              "      <td>S</td>\n",
              "    </tr>\n",
              "    <tr>\n",
              "      <th>888</th>\n",
              "      <td>889</td>\n",
              "      <td>0</td>\n",
              "      <td>3</td>\n",
              "      <td>Johnston, Miss. Catherine Helen \"Carrie\"</td>\n",
              "      <td>female</td>\n",
              "      <td>NaN</td>\n",
              "      <td>1</td>\n",
              "      <td>2</td>\n",
              "      <td>W./C. 6607</td>\n",
              "      <td>23.45</td>\n",
              "      <td>NaN</td>\n",
              "      <td>S</td>\n",
              "    </tr>\n",
              "    <tr>\n",
              "      <th>889</th>\n",
              "      <td>890</td>\n",
              "      <td>1</td>\n",
              "      <td>1</td>\n",
              "      <td>Behr, Mr. Karl Howell</td>\n",
              "      <td>male</td>\n",
              "      <td>26.0</td>\n",
              "      <td>0</td>\n",
              "      <td>0</td>\n",
              "      <td>111369</td>\n",
              "      <td>30.00</td>\n",
              "      <td>C148</td>\n",
              "      <td>C</td>\n",
              "    </tr>\n",
              "    <tr>\n",
              "      <th>890</th>\n",
              "      <td>891</td>\n",
              "      <td>0</td>\n",
              "      <td>3</td>\n",
              "      <td>Dooley, Mr. Patrick</td>\n",
              "      <td>male</td>\n",
              "      <td>32.0</td>\n",
              "      <td>0</td>\n",
              "      <td>0</td>\n",
              "      <td>370376</td>\n",
              "      <td>7.75</td>\n",
              "      <td>NaN</td>\n",
              "      <td>Q</td>\n",
              "    </tr>\n",
              "  </tbody>\n",
              "</table>\n",
              "</div>"
            ],
            "text/plain": [
              "     PassengerId  Survived  Pclass  ...   Fare Cabin  Embarked\n",
              "886          887         0       2  ...  13.00   NaN         S\n",
              "887          888         1       1  ...  30.00   B42         S\n",
              "888          889         0       3  ...  23.45   NaN         S\n",
              "889          890         1       1  ...  30.00  C148         C\n",
              "890          891         0       3  ...   7.75   NaN         Q\n",
              "\n",
              "[5 rows x 12 columns]"
            ]
          },
          "metadata": {},
          "execution_count": 4
        }
      ]
    },
    {
      "cell_type": "code",
      "source": [
        "# checking the data types\n",
        "train.info()"
      ],
      "metadata": {
        "id": "AbWHFkN1Us00",
        "colab": {
          "base_uri": "https://localhost:8080/"
        },
        "outputId": "d6ed1f62-b8de-4e25-b992-91587726e775"
      },
      "execution_count": 5,
      "outputs": [
        {
          "output_type": "stream",
          "name": "stdout",
          "text": [
            "<class 'pandas.core.frame.DataFrame'>\n",
            "RangeIndex: 891 entries, 0 to 890\n",
            "Data columns (total 12 columns):\n",
            " #   Column       Non-Null Count  Dtype  \n",
            "---  ------       --------------  -----  \n",
            " 0   PassengerId  891 non-null    int64  \n",
            " 1   Survived     891 non-null    int64  \n",
            " 2   Pclass       891 non-null    int64  \n",
            " 3   Name         891 non-null    object \n",
            " 4   Sex          891 non-null    object \n",
            " 5   Age          714 non-null    float64\n",
            " 6   SibSp        891 non-null    int64  \n",
            " 7   Parch        891 non-null    int64  \n",
            " 8   Ticket       891 non-null    object \n",
            " 9   Fare         891 non-null    float64\n",
            " 10  Cabin        204 non-null    object \n",
            " 11  Embarked     889 non-null    object \n",
            "dtypes: float64(2), int64(5), object(5)\n",
            "memory usage: 83.7+ KB\n"
          ]
        }
      ]
    },
    {
      "cell_type": "code",
      "source": [
        "# Summary Statistics of the data\n",
        "train.describe().T"
      ],
      "metadata": {
        "colab": {
          "base_uri": "https://localhost:8080/",
          "height": 269
        },
        "id": "cx3jxIzZjqnL",
        "outputId": "088f3df2-9468-4c5b-c393-c8e43c24da9f"
      },
      "execution_count": 6,
      "outputs": [
        {
          "output_type": "execute_result",
          "data": {
            "text/html": [
              "<div>\n",
              "<style scoped>\n",
              "    .dataframe tbody tr th:only-of-type {\n",
              "        vertical-align: middle;\n",
              "    }\n",
              "\n",
              "    .dataframe tbody tr th {\n",
              "        vertical-align: top;\n",
              "    }\n",
              "\n",
              "    .dataframe thead th {\n",
              "        text-align: right;\n",
              "    }\n",
              "</style>\n",
              "<table border=\"1\" class=\"dataframe\">\n",
              "  <thead>\n",
              "    <tr style=\"text-align: right;\">\n",
              "      <th></th>\n",
              "      <th>count</th>\n",
              "      <th>mean</th>\n",
              "      <th>std</th>\n",
              "      <th>min</th>\n",
              "      <th>25%</th>\n",
              "      <th>50%</th>\n",
              "      <th>75%</th>\n",
              "      <th>max</th>\n",
              "    </tr>\n",
              "  </thead>\n",
              "  <tbody>\n",
              "    <tr>\n",
              "      <th>PassengerId</th>\n",
              "      <td>891.0</td>\n",
              "      <td>446.000000</td>\n",
              "      <td>257.353842</td>\n",
              "      <td>1.00</td>\n",
              "      <td>223.5000</td>\n",
              "      <td>446.0000</td>\n",
              "      <td>668.5</td>\n",
              "      <td>891.0000</td>\n",
              "    </tr>\n",
              "    <tr>\n",
              "      <th>Survived</th>\n",
              "      <td>891.0</td>\n",
              "      <td>0.383838</td>\n",
              "      <td>0.486592</td>\n",
              "      <td>0.00</td>\n",
              "      <td>0.0000</td>\n",
              "      <td>0.0000</td>\n",
              "      <td>1.0</td>\n",
              "      <td>1.0000</td>\n",
              "    </tr>\n",
              "    <tr>\n",
              "      <th>Pclass</th>\n",
              "      <td>891.0</td>\n",
              "      <td>2.308642</td>\n",
              "      <td>0.836071</td>\n",
              "      <td>1.00</td>\n",
              "      <td>2.0000</td>\n",
              "      <td>3.0000</td>\n",
              "      <td>3.0</td>\n",
              "      <td>3.0000</td>\n",
              "    </tr>\n",
              "    <tr>\n",
              "      <th>Age</th>\n",
              "      <td>714.0</td>\n",
              "      <td>29.699118</td>\n",
              "      <td>14.526497</td>\n",
              "      <td>0.42</td>\n",
              "      <td>20.1250</td>\n",
              "      <td>28.0000</td>\n",
              "      <td>38.0</td>\n",
              "      <td>80.0000</td>\n",
              "    </tr>\n",
              "    <tr>\n",
              "      <th>SibSp</th>\n",
              "      <td>891.0</td>\n",
              "      <td>0.523008</td>\n",
              "      <td>1.102743</td>\n",
              "      <td>0.00</td>\n",
              "      <td>0.0000</td>\n",
              "      <td>0.0000</td>\n",
              "      <td>1.0</td>\n",
              "      <td>8.0000</td>\n",
              "    </tr>\n",
              "    <tr>\n",
              "      <th>Parch</th>\n",
              "      <td>891.0</td>\n",
              "      <td>0.381594</td>\n",
              "      <td>0.806057</td>\n",
              "      <td>0.00</td>\n",
              "      <td>0.0000</td>\n",
              "      <td>0.0000</td>\n",
              "      <td>0.0</td>\n",
              "      <td>6.0000</td>\n",
              "    </tr>\n",
              "    <tr>\n",
              "      <th>Fare</th>\n",
              "      <td>891.0</td>\n",
              "      <td>32.204208</td>\n",
              "      <td>49.693429</td>\n",
              "      <td>0.00</td>\n",
              "      <td>7.9104</td>\n",
              "      <td>14.4542</td>\n",
              "      <td>31.0</td>\n",
              "      <td>512.3292</td>\n",
              "    </tr>\n",
              "  </tbody>\n",
              "</table>\n",
              "</div>"
            ],
            "text/plain": [
              "             count        mean         std  ...       50%    75%       max\n",
              "PassengerId  891.0  446.000000  257.353842  ...  446.0000  668.5  891.0000\n",
              "Survived     891.0    0.383838    0.486592  ...    0.0000    1.0    1.0000\n",
              "Pclass       891.0    2.308642    0.836071  ...    3.0000    3.0    3.0000\n",
              "Age          714.0   29.699118   14.526497  ...   28.0000   38.0   80.0000\n",
              "SibSp        891.0    0.523008    1.102743  ...    0.0000    1.0    8.0000\n",
              "Parch        891.0    0.381594    0.806057  ...    0.0000    0.0    6.0000\n",
              "Fare         891.0   32.204208   49.693429  ...   14.4542   31.0  512.3292\n",
              "\n",
              "[7 rows x 8 columns]"
            ]
          },
          "metadata": {},
          "execution_count": 6
        }
      ]
    },
    {
      "cell_type": "markdown",
      "source": [
        "# Data Cleaning"
      ],
      "metadata": {
        "id": "p_Y5sBb9jccl"
      }
    },
    {
      "cell_type": "code",
      "source": [
        "# making our columns uniform\n",
        "train.columns = train.columns.str.lower()\n",
        "test.columns = test.columns.str.lower()"
      ],
      "metadata": {
        "id": "IHdRHz-vix_T"
      },
      "execution_count": 7,
      "outputs": []
    },
    {
      "cell_type": "code",
      "source": [
        "# Checking for null values\n",
        "train.isnull().sum()"
      ],
      "metadata": {
        "colab": {
          "base_uri": "https://localhost:8080/"
        },
        "id": "BwqUt6VjjZna",
        "outputId": "84366735-3a42-45e2-fa74-871393625d53"
      },
      "execution_count": 8,
      "outputs": [
        {
          "output_type": "execute_result",
          "data": {
            "text/plain": [
              "passengerid      0\n",
              "survived         0\n",
              "pclass           0\n",
              "name             0\n",
              "sex              0\n",
              "age            177\n",
              "sibsp            0\n",
              "parch            0\n",
              "ticket           0\n",
              "fare             0\n",
              "cabin          687\n",
              "embarked         2\n",
              "dtype: int64"
            ]
          },
          "metadata": {},
          "execution_count": 8
        }
      ]
    },
    {
      "cell_type": "code",
      "source": [
        "# Dropping cabin column\n",
        "train.drop( columns=['cabin'],inplace = True)\n",
        "test.drop( columns=['cabin'],inplace = True)"
      ],
      "metadata": {
        "id": "wNXwpYqmjbtW"
      },
      "execution_count": 9,
      "outputs": []
    },
    {
      "cell_type": "code",
      "source": [
        "# Replacing the null values in age column with the mean\n",
        "train['age'] = train['age'].fillna(train['age'].mean())"
      ],
      "metadata": {
        "id": "hzFt4wYZjtUW"
      },
      "execution_count": 10,
      "outputs": []
    },
    {
      "cell_type": "code",
      "source": [
        "# dealing with null values in embarked column\n",
        "# There are only 2 null values. We will drop this 2 observations\n",
        "train.dropna(inplace=True)\n",
        "test.dropna(inplace=True)"
      ],
      "metadata": {
        "id": "jIFpZZeVj-2z"
      },
      "execution_count": 11,
      "outputs": []
    },
    {
      "cell_type": "code",
      "source": [
        "# Checking for outliers\n",
        "# Checking for outliers using boxplots\n",
        "train.boxplot(figsize=(15, 8), fontsize=10)\n",
        "\n",
        "# print size of the data with outliers present\n",
        "print(train.shape)"
      ],
      "metadata": {
        "colab": {
          "base_uri": "https://localhost:8080/",
          "height": 502
        },
        "id": "52MHMY94kA40",
        "outputId": "4e2e95f8-24e8-43c0-ae6c-8736c3816ac9"
      },
      "execution_count": 12,
      "outputs": [
        {
          "output_type": "stream",
          "name": "stdout",
          "text": [
            "(889, 11)\n"
          ]
        },
        {
          "output_type": "display_data",
          "data": {
            "image/png": "[encoded data removed]",
            "text/plain": [
              "<Figure size 1080x576 with 1 Axes>"
            ]
          },
          "metadata": {
            "needs_background": "light"
          }
        }
      ]
    },
    {
      "cell_type": "markdown",
      "source": [
        "- The age column and fare have the most outlier values\n",
        "- We will ignore them and proceed with the analysis "
      ],
      "metadata": {
        "id": "BaA8-AkgmCVJ"
      }
    },
    {
      "cell_type": "markdown",
      "source": [
        "# EDA"
      ],
      "metadata": {
        "id": "QptdooN_mOww"
      }
    },
    {
      "cell_type": "code",
      "source": [
        "# Checking the frequency of the survived column\n",
        "train.survived.value_counts(normalize=True)*100"
      ],
      "metadata": {
        "colab": {
          "base_uri": "https://localhost:8080/"
        },
        "id": "YFxMUf_DmPxu",
        "outputId": "8c3f45f5-7a67-436e-e5c0-77800ed4ed29"
      },
      "execution_count": 13,
      "outputs": [
        {
          "output_type": "execute_result",
          "data": {
            "text/plain": [
              "0    61.754781\n",
              "1    38.245219\n",
              "Name: survived, dtype: float64"
            ]
          },
          "metadata": {},
          "execution_count": 13
        }
      ]
    },
    {
      "cell_type": "markdown",
      "source": [
        "- 59.6% of the passengers on board did not survive\n",
        "- 40.4% of the passengers on board survived"
      ],
      "metadata": {
        "id": "Tqmdhj44mU54"
      }
    },
    {
      "cell_type": "code",
      "source": [
        "#checking what gender most passengerrs were\n",
        "print('\\n\\nSex Ratio of individuals')\n",
        "print(train['sex'].value_counts(normalize=True))\n"
      ],
      "metadata": {
        "colab": {
          "base_uri": "https://localhost:8080/"
        },
        "id": "LmIQxxGRnBvU",
        "outputId": "d79617cb-4fae-448e-8716-5b6629e04d6c"
      },
      "execution_count": 14,
      "outputs": [
        {
          "output_type": "stream",
          "name": "stdout",
          "text": [
            "\n",
            "\n",
            "Sex Ratio of individuals\n",
            "male      0.649044\n",
            "female    0.350956\n",
            "Name: sex, dtype: float64\n"
          ]
        }
      ]
    },
    {
      "cell_type": "markdown",
      "source": [
        "- 63.6% of the passengers were men\n",
        "- 36% of the passengers were ladies"
      ],
      "metadata": {
        "id": "YjjRhBRhnI8c"
      }
    },
    {
      "cell_type": "code",
      "source": [
        "#Checking for survival rates by gender\n",
        "# we know women and children were given the first priority when being evacuated from the boat\n",
        "\n",
        "#we will filter the dataset to get records of only those who survived\n",
        "surv=train[train['survived']==1]\n",
        "\n",
        "print('Survival Rate by Sex')\n",
        "surv['survived'].groupby(surv['sex']).value_counts()"
      ],
      "metadata": {
        "colab": {
          "base_uri": "https://localhost:8080/"
        },
        "id": "JLrq9FL5mklY",
        "outputId": "f8b897d0-ccaf-45b2-ddec-d6f11845b719"
      },
      "execution_count": 15,
      "outputs": [
        {
          "output_type": "stream",
          "name": "stdout",
          "text": [
            "Survival Rate by Sex\n"
          ]
        },
        {
          "output_type": "execute_result",
          "data": {
            "text/plain": [
              "sex     survived\n",
              "female  1           231\n",
              "male    1           109\n",
              "Name: survived, dtype: int64"
            ]
          },
          "metadata": {},
          "execution_count": 15
        }
      ]
    },
    {
      "cell_type": "markdown",
      "source": [
        "- The number of women who had boarded the titanic were less than that of men.\n",
        "- Despite that fact, most women survived than men"
      ],
      "metadata": {
        "id": "w458kEhDp3co"
      }
    },
    {
      "cell_type": "code",
      "source": [
        "# plotting the passenger age historgram.\n",
        "hist = train['age'].hist(bins=30)"
      ],
      "metadata": {
        "colab": {
          "base_uri": "https://localhost:8080/",
          "height": 271
        },
        "id": "lCYSWpYeqUwL",
        "outputId": "74cc8c47-cf18-4e6e-847b-0ca9f1bb8fcd"
      },
      "execution_count": 16,
      "outputs": [
        {
          "output_type": "display_data",
          "data": {
            "image/png": "[encoded data removed]",
            "text/plain": [
              "<Figure size 432x288 with 1 Axes>"
            ]
          },
          "metadata": {
            "needs_background": "light"
          }
        }
      ]
    },
    {
      "cell_type": "markdown",
      "source": [
        "- most of the passengers were young compare to the elderly"
      ],
      "metadata": {
        "id": "nh6cxU7PqZlG"
      }
    },
    {
      "cell_type": "code",
      "source": [
        "# survival rate by age\n",
        "surv_age=surv['age'].hist(bins=30)"
      ],
      "metadata": {
        "colab": {
          "base_uri": "https://localhost:8080/",
          "height": 268
        },
        "id": "8Lj67u8qqkaL",
        "outputId": "e6afc8a2-cff9-4c4f-c267-b17bf4eb146e"
      },
      "execution_count": 17,
      "outputs": [
        {
          "output_type": "display_data",
          "data": {
            "image/png": "[encoded data removed]",
            "text/plain": [
              "<Figure size 432x288 with 1 Axes>"
            ]
          },
          "metadata": {
            "needs_background": "light"
          }
        }
      ]
    },
    {
      "cell_type": "markdown",
      "source": [
        "- most of the young people survived\n",
        "- all the elderly people also survived\n",
        "- Most of the passengers who survived were in their twenties and thirties\n",
        "- None of the passengers in their seventies survived"
      ],
      "metadata": {
        "id": "4iGZYM6VrlBA"
      }
    },
    {
      "cell_type": "code",
      "source": [
        "# plotting count plots of our features\n",
        "fig, axes = plt.subplots(2, 4, figsize=(16, 10))\n",
        "sns.countplot('survived',data=train,ax=axes[0,0])\n",
        "sns.countplot('pclass',data=train,ax=axes[0,1])\n",
        "sns.countplot('sex',data=train,ax=axes[0,2])\n",
        "sns.countplot('sibsp',data=train,ax=axes[0,3])\n",
        "sns.countplot('parch',data=train,ax=axes[1,0])\n",
        "sns.countplot('embarked',data=train,ax=axes[1,1])\n",
        "sns.distplot(train['fare'], kde=True,ax=axes[1,2])\n",
        "sns.distplot(train['age'],kde=True,ax=axes[1,3])"
      ],
      "metadata": {
        "colab": {
          "base_uri": "https://localhost:8080/",
          "height": 623
        },
        "id": "IxCFLseMrx1u",
        "outputId": "54778eb4-13a9-49ec-d512-85fd98c26c0c"
      },
      "execution_count": 18,
      "outputs": [
        {
          "output_type": "execute_result",
          "data": {
            "text/plain": [
              "<matplotlib.axes._subplots.AxesSubplot at 0x7f631daa6f90>"
            ]
          },
          "metadata": {},
          "execution_count": 18
        },
        {
          "output_type": "display_data",
          "data": {
            "image/png": "[encoded data removed]",
            "text/plain": [
              "<Figure size 1152x720 with 8 Axes>"
            ]
          },
          "metadata": {
            "needs_background": "light"
          }
        }
      ]
    },
    {
      "cell_type": "code",
      "source": [
        "# plotting pairplots\n",
        "plt.figure(dpi= 80)\n",
        "sns.pairplot(train[['age','fare']], kind=\"scatter\", plot_kws=dict(s=80, edgecolor=\"white\", linewidth=2.5))\n",
        "plt.show()"
      ],
      "metadata": {
        "colab": {
          "base_uri": "https://localhost:8080/",
          "height": 391
        },
        "id": "C_Rr75RDsfvA",
        "outputId": "e9c41c4c-818a-4fd0-9cc8-c9729f6718c0"
      },
      "execution_count": 19,
      "outputs": [
        {
          "output_type": "display_data",
          "data": {
            "text/plain": [
              "<Figure size 480x320 with 0 Axes>"
            ]
          },
          "metadata": {}
        },
        {
          "output_type": "display_data",
          "data": {
            "image/png": "[encoded data removed]",
            "text/plain": [
              "<Figure size 360x360 with 6 Axes>"
            ]
          },
          "metadata": {
            "needs_background": "light"
          }
        }
      ]
    },
    {
      "cell_type": "code",
      "source": [
        "# correlation heatmap \n",
        "colormap = plt.cm.Blues\n",
        "plt.figure(figsize=(14,10))\n",
        "sns.heatmap(train.corr(), cmap=colormap, annot=True, linewidths=0.2)"
      ],
      "metadata": {
        "colab": {
          "base_uri": "https://localhost:8080/",
          "height": 615
        },
        "id": "oZwItpuxsnLw",
        "outputId": "21662b22-e3f6-4620-82af-4802cd163baa"
      },
      "execution_count": 20,
      "outputs": [
        {
          "output_type": "execute_result",
          "data": {
            "text/plain": [
              "<matplotlib.axes._subplots.AxesSubplot at 0x7f6312db68d0>"
            ]
          },
          "metadata": {},
          "execution_count": 20
        },
        {
          "output_type": "display_data",
          "data": {
            "image/png": "[encoded data removed]",
            "text/plain": [
              "<Figure size 1008x720 with 2 Axes>"
            ]
          },
          "metadata": {
            "needs_background": "light"
          }
        }
      ]
    },
    {
      "cell_type": "markdown",
      "source": [
        "- From the correlation map, we can see that p-class and fare are the columns with the highest correlation coefficient with our target variable"
      ],
      "metadata": {
        "id": "_GIEcTWotMYI"
      }
    },
    {
      "cell_type": "code",
      "source": [
        "explode = [0,0,0]\n",
        "p = surv.groupby('pclass')['survived'].value_counts()\n",
        "\n",
        "labels = surv['pclass'].unique()\n",
        "\n",
        "plt.title('A pie chart showing the % of pclass who survived.')\n",
        "plt.pie(p,labels=labels,explode=explode,autopct='%1.1f%%',startangle=90,shadow=True);"
      ],
      "metadata": {
        "colab": {
          "base_uri": "https://localhost:8080/",
          "height": 264
        },
        "id": "xgaJ4JI3toqv",
        "outputId": "8cacb4ba-f2b1-4431-a159-7489166346c6"
      },
      "execution_count": 21,
      "outputs": [
        {
          "output_type": "display_data",
          "data": {
            "image/png": "[encoded data removed]",
            "text/plain": [
              "<Figure size 432x288 with 1 Axes>"
            ]
          },
          "metadata": {}
        }
      ]
    },
    {
      "cell_type": "markdown",
      "source": [
        "- Most of the passengers who survived were in the first class of the titanic."
      ],
      "metadata": {
        "id": "UpaMSJ_huBGL"
      }
    },
    {
      "cell_type": "code",
      "source": [
        "# Comparing class and fare\n",
        "sns.catplot(x='pclass', y='fare', data=train)"
      ],
      "metadata": {
        "colab": {
          "base_uri": "https://localhost:8080/",
          "height": 386
        },
        "id": "Dgb99JD2uP80",
        "outputId": "f5d7cd15-49ff-4c56-a7bf-5f20fae2d331"
      },
      "execution_count": 22,
      "outputs": [
        {
          "output_type": "execute_result",
          "data": {
            "text/plain": [
              "<seaborn.axisgrid.FacetGrid at 0x7f6312c41b90>"
            ]
          },
          "metadata": {},
          "execution_count": 22
        },
        {
          "output_type": "display_data",
          "data": {
            "image/png": "[encoded data removed]",
            "text/plain": [
              "<Figure size 360x360 with 1 Axes>"
            ]
          },
          "metadata": {
            "needs_background": "light"
          }
        }
      ]
    },
    {
      "cell_type": "markdown",
      "source": [
        "- People in the first class paid high fares than those in the second and third class of the titanic"
      ],
      "metadata": {
        "id": "B6DV7YauvMhk"
      }
    },
    {
      "cell_type": "code",
      "source": [
        "#Comparing sex and age and pclass\n",
        "sns.catplot(x='sex', y='age', data=train, kind='box', hue='pclass')"
      ],
      "metadata": {
        "colab": {
          "base_uri": "https://localhost:8080/",
          "height": 386
        },
        "id": "djRpoI25vG0h",
        "outputId": "928e234f-67cf-4562-dd7d-cad91f4341b3"
      },
      "execution_count": 23,
      "outputs": [
        {
          "output_type": "execute_result",
          "data": {
            "text/plain": [
              "<seaborn.axisgrid.FacetGrid at 0x7f6312bb3650>"
            ]
          },
          "metadata": {},
          "execution_count": 23
        },
        {
          "output_type": "display_data",
          "data": {
            "image/png": "[encoded data removed]",
            "text/plain": [
              "<Figure size 406.6x360 with 1 Axes>"
            ]
          },
          "metadata": {
            "needs_background": "light"
          }
        }
      ]
    },
    {
      "cell_type": "markdown",
      "source": [
        "- Majority of the elderly passengers were in the first class of the titanic"
      ],
      "metadata": {
        "id": "Ywn7nqWrvds6"
      }
    },
    {
      "cell_type": "code",
      "source": [
        "# What about the family's size? Would a larger family stand a better chance of survival?\n",
        "train['family_members'] = train['parch'] + train['sibsp']\n",
        "test['family_members'] = test['parch'] + test['sibsp']"
      ],
      "metadata": {
        "id": "Ue8gjcS7vmPQ"
      },
      "execution_count": 24,
      "outputs": []
    },
    {
      "cell_type": "code",
      "source": [
        "# Lets check family size\n",
        "train['survived'].groupby(train['family_members']).mean().plot(kind='bar')"
      ],
      "metadata": {
        "colab": {
          "base_uri": "https://localhost:8080/",
          "height": 306
        },
        "id": "2I6Q6MBbxOyk",
        "outputId": "f47005da-d6c6-4100-d89b-df4fb787051a"
      },
      "execution_count": 25,
      "outputs": [
        {
          "output_type": "execute_result",
          "data": {
            "text/plain": [
              "<matplotlib.axes._subplots.AxesSubplot at 0x7f6312acdbd0>"
            ]
          },
          "metadata": {},
          "execution_count": 25
        },
        {
          "output_type": "display_data",
          "data": {
            "image/png": "[encoded data removed]",
            "text/plain": [
              "<Figure size 432x288 with 1 Axes>"
            ]
          },
          "metadata": {
            "needs_background": "light"
          }
        }
      ]
    },
    {
      "cell_type": "markdown",
      "source": [
        "- small families had higher survival rates"
      ],
      "metadata": {
        "id": "Z0dr2McaxZhg"
      }
    },
    {
      "cell_type": "code",
      "source": [
        "# dropping columns we will not need \n",
        "train.drop(['name','sibsp','parch','passengerid','ticket'],axis=1,inplace=True)\n",
        "test.drop(['name','sibsp','parch','passengerid','ticket'],axis=1,inplace=True)"
      ],
      "metadata": {
        "id": "KQHz_Rahxdp1"
      },
      "execution_count": 26,
      "outputs": []
    },
    {
      "cell_type": "code",
      "source": [
        "train.columns"
      ],
      "metadata": {
        "colab": {
          "base_uri": "https://localhost:8080/"
        },
        "id": "LonpXtOgx6v6",
        "outputId": "cc213436-3db3-46ae-a48b-427962984f2b"
      },
      "execution_count": 27,
      "outputs": [
        {
          "output_type": "execute_result",
          "data": {
            "text/plain": [
              "Index(['survived', 'pclass', 'sex', 'age', 'fare', 'embarked',\n",
              "       'family_members'],\n",
              "      dtype='object')"
            ]
          },
          "metadata": {},
          "execution_count": 27
        }
      ]
    },
    {
      "cell_type": "code",
      "source": [
        "# Encode sex and embarked features\n",
        "train['sex'] = train.sex.map({'male':0, 'female':1})\n",
        "train['embarked'] = train.embarked.map({'C':0,'S':1,'Q':2})\n",
        "\n",
        "test['sex'] = test.sex.map({'male':0, 'female':1})\n",
        "test['embarked'] = test.embarked.map({'C':0,'S':1,'Q':2})"
      ],
      "metadata": {
        "id": "em5DTSQhy307"
      },
      "execution_count": 28,
      "outputs": []
    },
    {
      "cell_type": "code",
      "source": [
        "train.head()"
      ],
      "metadata": {
        "colab": {
          "base_uri": "https://localhost:8080/",
          "height": 206
        },
        "id": "DvUG-Ml4zWbs",
        "outputId": "ade407f0-5b7f-46f4-9e2f-2e7954d3a2d0"
      },
      "execution_count": 29,
      "outputs": [
        {
          "output_type": "execute_result",
          "data": {
            "text/html": [
              "<div>\n",
              "<style scoped>\n",
              "    .dataframe tbody tr th:only-of-type {\n",
              "        vertical-align: middle;\n",
              "    }\n",
              "\n",
              "    .dataframe tbody tr th {\n",
              "        vertical-align: top;\n",
              "    }\n",
              "\n",
              "    .dataframe thead th {\n",
              "        text-align: right;\n",
              "    }\n",
              "</style>\n",
              "<table border=\"1\" class=\"dataframe\">\n",
              "  <thead>\n",
              "    <tr style=\"text-align: right;\">\n",
              "      <th></th>\n",
              "      <th>survived</th>\n",
              "      <th>pclass</th>\n",
              "      <th>sex</th>\n",
              "      <th>age</th>\n",
              "      <th>fare</th>\n",
              "      <th>embarked</th>\n",
              "      <th>family_members</th>\n",
              "    </tr>\n",
              "  </thead>\n",
              "  <tbody>\n",
              "    <tr>\n",
              "      <th>0</th>\n",
              "      <td>0</td>\n",
              "      <td>3</td>\n",
              "      <td>0</td>\n",
              "      <td>22.0</td>\n",
              "      <td>7.2500</td>\n",
              "      <td>1</td>\n",
              "      <td>1</td>\n",
              "    </tr>\n",
              "    <tr>\n",
              "      <th>1</th>\n",
              "      <td>1</td>\n",
              "      <td>1</td>\n",
              "      <td>1</td>\n",
              "      <td>38.0</td>\n",
              "      <td>71.2833</td>\n",
              "      <td>0</td>\n",
              "      <td>1</td>\n",
              "    </tr>\n",
              "    <tr>\n",
              "      <th>2</th>\n",
              "      <td>1</td>\n",
              "      <td>3</td>\n",
              "      <td>1</td>\n",
              "      <td>26.0</td>\n",
              "      <td>7.9250</td>\n",
              "      <td>1</td>\n",
              "      <td>0</td>\n",
              "    </tr>\n",
              "    <tr>\n",
              "      <th>3</th>\n",
              "      <td>1</td>\n",
              "      <td>1</td>\n",
              "      <td>1</td>\n",
              "      <td>35.0</td>\n",
              "      <td>53.1000</td>\n",
              "      <td>1</td>\n",
              "      <td>1</td>\n",
              "    </tr>\n",
              "    <tr>\n",
              "      <th>4</th>\n",
              "      <td>0</td>\n",
              "      <td>3</td>\n",
              "      <td>0</td>\n",
              "      <td>35.0</td>\n",
              "      <td>8.0500</td>\n",
              "      <td>1</td>\n",
              "      <td>0</td>\n",
              "    </tr>\n",
              "  </tbody>\n",
              "</table>\n",
              "</div>"
            ],
            "text/plain": [
              "   survived  pclass  sex   age     fare  embarked  family_members\n",
              "0         0       3    0  22.0   7.2500         1               1\n",
              "1         1       1    1  38.0  71.2833         0               1\n",
              "2         1       3    1  26.0   7.9250         1               0\n",
              "3         1       1    1  35.0  53.1000         1               1\n",
              "4         0       3    0  35.0   8.0500         1               0"
            ]
          },
          "metadata": {},
          "execution_count": 29
        }
      ]
    },
    {
      "cell_type": "markdown",
      "source": [
        "# Modelling"
      ],
      "metadata": {
        "id": "2sIwAAwI0fFl"
      }
    },
    {
      "cell_type": "markdown",
      "source": [
        "### Baseline"
      ],
      "metadata": {
        "id": "J0WOqIZs1gxG"
      }
    },
    {
      "cell_type": "code",
      "source": [
        "# Defining the predictor and target variables in our dataset.\n",
        "#\n",
        "X = train.drop(['survived'],axis=1)\n",
        "y = train['survived']\n",
        "\n",
        "# One hot encoding our data for the categorical variables\n",
        "#\n",
        "X = pd.get_dummies(X, drop_first=True)\n",
        "\n",
        "# Splitting our dataset\n",
        "#\n",
        "X_train,X_test,y_train,y_test = train_test_split(X,y,random_state=0,test_size=0.2)\n",
        "\n",
        "# Scaling the predictor variables\n",
        "#\n",
        "scaler = StandardScaler()\n",
        "X_train = scaler.fit_transform(X_train)\n",
        "X_test = scaler.fit_transform(X_test)\n",
        "\n",
        "# Fitting the data in a logistic regression\n",
        "#\n",
        "from sklearn.linear_model import LogisticRegression\n",
        "regressor = LogisticRegression()\n",
        "regressor.fit(X_train,y_train)\n",
        "\n",
        "# Predicting classification using the test set\n",
        "#\n",
        "y_predict = regressor.predict(X_test)\n",
        "\n",
        "# Getting the metrics for assessing our baseline model\n",
        "#\n",
        "print(confusion_matrix(y_test,y_predict))\n",
        "print(classification_report(y_test,y_predict))"
      ],
      "metadata": {
        "colab": {
          "base_uri": "https://localhost:8080/"
        },
        "id": "mPUz6MsN0gRK",
        "outputId": "4a6f5cca-eaad-4997-adb8-6ab790651115"
      },
      "execution_count": 30,
      "outputs": [
        {
          "output_type": "stream",
          "name": "stdout",
          "text": [
            "[[87 18]\n",
            " [31 42]]\n",
            "              precision    recall  f1-score   support\n",
            "\n",
            "           0       0.74      0.83      0.78       105\n",
            "           1       0.70      0.58      0.63        73\n",
            "\n",
            "    accuracy                           0.72       178\n",
            "   macro avg       0.72      0.70      0.71       178\n",
            "weighted avg       0.72      0.72      0.72       178\n",
            "\n"
          ]
        }
      ]
    },
    {
      "cell_type": "markdown",
      "source": [
        "Our model's accuracy is 72%, which is not high enough for us."
      ],
      "metadata": {
        "id": "cLFx8HIl1Tuz"
      }
    },
    {
      "cell_type": "markdown",
      "source": [
        "### K Nearest Neighbours"
      ],
      "metadata": {
        "id": "8ZCccdh21lTL"
      }
    },
    {
      "cell_type": "code",
      "source": [
        "# Defining the predictor variables and target column\n",
        "#\n",
        "X = train.drop(['survived'],axis=1)\n",
        "y = train['survived']\n",
        "scaler = StandardScaler()\n",
        "# Standardizing our numerical columns which are the age and fare columns\n",
        "#\n",
        "X[['age','fare']] = scaler.fit_transform(X[['age','fare']])\n",
        "\n",
        "# One hot encoding any categorical columns in our dataset\n",
        "#\n",
        "X = pd.get_dummies(X, drop_first=True)\n",
        "\n",
        "# Splitting our dataset into the test and train \n",
        "#\n",
        "X_train,X_test,y_train,y_test = train_test_split(X,y,test_size=0.2,random_state=101)\n",
        " \n",
        "# Choosing an odd number 3 to help us classify our data\n",
        "#\n",
        "classifier = KNeighborsClassifier(n_neighbors=3)\n",
        "classifier.fit(X_train,y_train)"
      ],
      "metadata": {
        "colab": {
          "base_uri": "https://localhost:8080/"
        },
        "id": "4w4zL8vu1sjt",
        "outputId": "bd4e789a-be82-4d8d-8323-526ac0b75e99"
      },
      "execution_count": 31,
      "outputs": [
        {
          "output_type": "execute_result",
          "data": {
            "text/plain": [
              "KNeighborsClassifier(n_neighbors=3)"
            ]
          },
          "metadata": {},
          "execution_count": 31
        }
      ]
    },
    {
      "cell_type": "code",
      "source": [
        "# Predict new values using our test data\n",
        "#\n",
        "y_pred = classifier.predict(X_test)\n",
        "\n",
        "# Printing out the various metrics\n",
        "#\n",
        "print(confusion_matrix(y_test,y_pred))\n",
        "print(classification_report(y_test,y_pred))"
      ],
      "metadata": {
        "colab": {
          "base_uri": "https://localhost:8080/"
        },
        "id": "IrtmbRbq17tq",
        "outputId": "2172e75c-60a9-4ee1-928f-84c6ec7ccf37"
      },
      "execution_count": 32,
      "outputs": [
        {
          "output_type": "stream",
          "name": "stdout",
          "text": [
            "[[89 18]\n",
            " [19 52]]\n",
            "              precision    recall  f1-score   support\n",
            "\n",
            "           0       0.82      0.83      0.83       107\n",
            "           1       0.74      0.73      0.74        71\n",
            "\n",
            "    accuracy                           0.79       178\n",
            "   macro avg       0.78      0.78      0.78       178\n",
            "weighted avg       0.79      0.79      0.79       178\n",
            "\n"
          ]
        }
      ]
    },
    {
      "cell_type": "markdown",
      "source": [
        "- When using KNN classifier, the accuracy increased from 72% to 79%"
      ],
      "metadata": {
        "id": "HKYbZGQG43O2"
      }
    },
    {
      "cell_type": "code",
      "source": [
        "# Hyperparameter tuning\n",
        "#  Defining the hyper parameters for the Knearest Neighbors Classifier\n",
        "#\n",
        "leaf_size = list(range(1,50))\n",
        "n_neighbors = list(range(1,30))\n",
        "p = [1,2]\n",
        "metric = ['manhattan', 'euclidean', 'minkowski']\n",
        "\n",
        "# Creating a dictionary with the hyperparameters\n",
        "#\n",
        "hyperparameters = dict(leaf_size = leaf_size, n_neighbors = n_neighbors, p=p,metric = metric)"
      ],
      "metadata": {
        "id": "sQBu0Mbu2B8W"
      },
      "execution_count": 33,
      "outputs": []
    },
    {
      "cell_type": "code",
      "source": [
        "# Used GridSearch to look for the best parameters\n",
        "classifier = KNeighborsClassifier()\n",
        "\n",
        "clf = GridSearchCV(classifier, hyperparameters,cv=10)"
      ],
      "metadata": {
        "id": "PPjekVUw5E36"
      },
      "execution_count": 34,
      "outputs": []
    },
    {
      "cell_type": "code",
      "source": [
        "# Fitting the train data into our model\n",
        "#\n",
        "clf.fit(X_train,y_train)\n",
        "# Printing out the best parameters\n",
        "#\n",
        "clf.best_params_"
      ],
      "metadata": {
        "colab": {
          "base_uri": "https://localhost:8080/"
        },
        "id": "pB4T6Dep5nxS",
        "outputId": "ccb3fe88-f065-4d04-eead-7f6556717a4c"
      },
      "execution_count": 35,
      "outputs": [
        {
          "output_type": "execute_result",
          "data": {
            "text/plain": [
              "{'leaf_size': 10, 'metric': 'manhattan', 'n_neighbors': 22, 'p': 1}"
            ]
          },
          "metadata": {},
          "execution_count": 35
        }
      ]
    },
    {
      "cell_type": "code",
      "source": [
        "# Fitting the parameters into our model\n",
        "#\n",
        "classifier = KNeighborsClassifier(leaf_size=10,n_neighbors=22,p=1,metric='manhattan')\n",
        "classifier.fit(X_train,y_train)"
      ],
      "metadata": {
        "colab": {
          "base_uri": "https://localhost:8080/"
        },
        "id": "mbmIMSRn8AOi",
        "outputId": "afb0d456-61ba-46a1-d2dc-71651d3e3fc3"
      },
      "execution_count": 36,
      "outputs": [
        {
          "output_type": "execute_result",
          "data": {
            "text/plain": [
              "KNeighborsClassifier(leaf_size=10, metric='manhattan', n_neighbors=22, p=1)"
            ]
          },
          "metadata": {},
          "execution_count": 36
        }
      ]
    },
    {
      "cell_type": "code",
      "source": [
        "# Predicting values using our test set\n",
        "#\n",
        "y_predict = classifier.predict(X_test)\n",
        "\n",
        "# Printing out the metrics for assessing the model's perfromance\n",
        "#\n",
        "print(confusion_matrix(y_test,y_pred))\n",
        "print(classification_report(y_test,y_pred))"
      ],
      "metadata": {
        "colab": {
          "base_uri": "https://localhost:8080/"
        },
        "id": "GOoz4pD98DeS",
        "outputId": "737fbbc3-951c-4b87-f0ee-272fc5e203ac"
      },
      "execution_count": 37,
      "outputs": [
        {
          "output_type": "stream",
          "name": "stdout",
          "text": [
            "[[89 18]\n",
            " [19 52]]\n",
            "              precision    recall  f1-score   support\n",
            "\n",
            "           0       0.82      0.83      0.83       107\n",
            "           1       0.74      0.73      0.74        71\n",
            "\n",
            "    accuracy                           0.79       178\n",
            "   macro avg       0.78      0.78      0.78       178\n",
            "weighted avg       0.79      0.79      0.79       178\n",
            "\n"
          ]
        }
      ]
    },
    {
      "cell_type": "code",
      "source": [
        "# Defining the list of test sizes we will use for the assessment\n",
        "#\n",
        "test_size = [0.1, 0.2, 0.3, 0.4, 0.5]\n",
        "\n",
        "from sklearn import metrics\n",
        "# Using a for loop to split the dataset, fit it with the optimal parameters then get the accuracy score.\n",
        "#\n",
        "\n",
        "for test in test_size:\n",
        "    X_train, X_test, y_train, y_test = train_test_split(X, y, test_size = test, random_state = 12)\n",
        "    \n",
        "    # Fitting to the classifier\n",
        "    classifier = KNeighborsClassifier(leaf_size=1,n_neighbors=29,p=1,metric='manhattan')\n",
        "    classifier.fit(X_train, y_train)\n",
        "    \n",
        "    y_pred = classifier.predict(X_test)\n",
        "\n",
        "    print(\"Test size {} has accuracy score:\".format(test), (metrics.accuracy_score(y_test, y_pred)*100))"
      ],
      "metadata": {
        "colab": {
          "base_uri": "https://localhost:8080/"
        },
        "id": "9059aRzE8ERx",
        "outputId": "e512552b-eb16-4786-f4fd-14ed12953f17"
      },
      "execution_count": 39,
      "outputs": [
        {
          "output_type": "stream",
          "name": "stdout",
          "text": [
            "Test size 0.1 has accuracy score: 87.64044943820225\n",
            "Test size 0.2 has accuracy score: 83.14606741573034\n",
            "Test size 0.3 has accuracy score: 82.02247191011236\n",
            "Test size 0.4 has accuracy score: 80.6179775280899\n",
            "Test size 0.5 has accuracy score: 78.42696629213484\n"
          ]
        }
      ]
    },
    {
      "cell_type": "markdown",
      "source": [
        "- Test size of 10 gives us the highest accuracy score"
      ],
      "metadata": {
        "id": "_vfhgfHhAZAv"
      }
    }
  ]
}